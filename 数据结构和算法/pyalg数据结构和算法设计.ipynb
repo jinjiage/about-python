{
 "cells": [
  {
   "cell_type": "markdown",
   "metadata": {},
   "source": [
    "# pyalg数据结构和算法设计\n",
    "1、主要参考《Data Structures and Algorithms with Object-Oriented Design Patterns in Python》Bruno R. Preiss B.A.Sc., M.A.Sc., Ph.D., P.Eng.及opus7实现和《数据结构和算法-面向对象的C++设计模式》\n",
    "\n",
    "2、编写pyalg的目的：\n",
    "   > 学习如何OOP\n",
    "    \n",
    "   > 学习如何设计一个库\n",
    "   \n",
    "   > 学习python语法特性，尤其是2.7及以后的版本"
   ]
  }
 ],
 "metadata": {
  "kernelspec": {
   "display_name": "Python 2",
   "language": "python",
   "name": "python2"
  },
  "language_info": {
   "codemirror_mode": {
    "name": "ipython",
    "version": 2
   },
   "file_extension": ".py",
   "mimetype": "text/x-python",
   "name": "python",
   "nbconvert_exporter": "python",
   "pygments_lexer": "ipython2",
   "version": "2.7.11"
  }
 },
 "nbformat": 4,
 "nbformat_minor": 0
}
