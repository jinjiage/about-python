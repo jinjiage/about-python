{
 "cells": [
  {
   "cell_type": "markdown",
   "metadata": {},
   "source": [
    "# pyalg数据结构和算法设计\n",
    "1、主要参考《Data Structures and Algorithms with Object-Oriented Design Patterns in Python》Bruno R. Preiss B.A.Sc., M.A.Sc., Ph.D., P.Eng.及opus7实现和《数据结构和算法-面向对象的C++设计模式》\n",
    "\n",
    "2、编写pyalg的目的：\n",
    "   > 学习如何OOP\n",
    "    \n",
    "   > 学习如何设计一个库\n",
    "   \n",
    "   > 学习python语法特性，尤其是2.7及以后的版本"
   ]
  },
  {
   "cell_type": "markdown",
   "metadata": {},
   "source": [
    "## 语法特性\n",
    "- 元编程 - 元类\n",
    "    - abc.ABCMeta和@abstractmethod组合使用，使类变为抽象类，无法实例化。\n",
    "    \n",
    "- 装饰器和描述器\n",
    "    - @property，使isXXX这类函数和一些统计类的接口，直接变为属性，而不是函数调用的方式，这样更加简化和简洁\n",
    "    - @staticmethod\n",
    "    - @abstractmethod\n",
    "   \n",
    "- 命名空间 - 模块化设计\n",
    "       \n",
    "    - alloc空间分配器\n",
    "       \n",
    "    - container容器\n",
    "    \n",
    "    - iterator迭代器\n",
    "    \n",
    "    - adapt适配器\n",
    "    \n",
    "    - alg算法\n",
    "       "
   ]
  }
 ],
 "metadata": {
  "kernelspec": {
   "display_name": "Python 2",
   "language": "python",
   "name": "python2"
  },
  "language_info": {
   "codemirror_mode": {
    "name": "ipython",
    "version": 2
   },
   "file_extension": ".py",
   "mimetype": "text/x-python",
   "name": "python",
   "nbconvert_exporter": "python",
   "pygments_lexer": "ipython2",
   "version": "2.7.11"
  }
 },
 "nbformat": 4,
 "nbformat_minor": 0
}
