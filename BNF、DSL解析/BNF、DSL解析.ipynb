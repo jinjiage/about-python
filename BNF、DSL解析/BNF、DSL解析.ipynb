{
 "cells": [
  {
   "cell_type": "markdown",
   "metadata": {},
   "source": [
    "# BNF、DSL解析"
   ]
  },
  {
   "cell_type": "markdown",
   "metadata": {},
   "source": [
    "    first       ::=  letter | \"_\"\n",
    "    letter      ::=  \"a\" | \"b\" | ... \"z\" | \"A\" | \"B\" | ... | \"Z\"\n",
    "    digit       ::=  \"0\" | \"1\" | ... | \"9\"\n",
    "    rest        ::=  first | digit\n",
    "    identifier  ::=  first rest*"
   ]
  },
  {
   "cell_type": "code",
   "execution_count": 51,
   "metadata": {
    "collapsed": false
   },
   "outputs": [
    {
     "name": "stdout",
     "output_type": "stream",
     "text": [
      "['_']\n",
      "['456sad']\n",
      "['a', 'a']\n",
      "['aa']\n",
      "['17']\n",
      "['17', '33', '88']\n",
      "['imaginary', 'farcical', 'aquatic', 'ceremony']\n",
      "['imaginary', ['farcical', 'aquatic', 'ceremony']]\n"
     ]
    }
   ],
   "source": [
    "from pyparsing import *\n",
    "\n",
    "first = Word(alphas+\"_\", exact=1)    #从目标字符串中找到参数1集合中也有的元素，选取1个元素（exact=1）；参数2还可以由min、max\n",
    "print first.parseString('_asdfghj')\n",
    "\n",
    "rest = Word(alphanums+\"_\")\n",
    "print rest.parseString('456sad')\n",
    "\n",
    "identifier = first + Optional(rest) #Optional等价于*，表示0或无限\n",
    "print identifier.parseString('aa')\n",
    "\n",
    "identifier = Combine(first+pp.Optional(rest)) #Combine代表，多个tokens相连，注意与上面区别，与Group的区别\n",
    "print identifier.parseString('aa')\n",
    "\n",
    "number = Word(nums)\n",
    "print number.parseString('17 33 88') #‘17 33 88’被空格符拆分成‘17’、‘33’、‘88’， Word(nums)匹配到‘17’\n",
    "numberList = OneOrMore(number)       #近似等用于Word(nums)+Word(nums)+Word(nums)\n",
    "print numberList.parseString('17 33 88')\n",
    "\n",
    "\n",
    "word = Word(alphas)\n",
    "phrase = OneOrMore(word)\n",
    "ungrouped = word + phrase\n",
    "print ungrouped.parseString('imaginary farcical aquatic ceremony')\n",
    "phrase = Group(OneOrMore(word)) #Group把多个tokens放到一个list中，注意与Combine区别，\n",
    "ungrouped = word + phrase\n",
    "print ungrouped.parseString('imaginary farcical aquatic ceremony')"
   ]
  }
 ],
 "metadata": {
  "kernelspec": {
   "display_name": "Python 2",
   "language": "python",
   "name": "python2"
  },
  "language_info": {
   "codemirror_mode": {
    "name": "ipython",
    "version": 2
   },
   "file_extension": ".py",
   "mimetype": "text/x-python",
   "name": "python",
   "nbconvert_exporter": "python",
   "pygments_lexer": "ipython2",
   "version": "2.7.11"
  }
 },
 "nbformat": 4,
 "nbformat_minor": 0
}
