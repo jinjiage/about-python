{
 "cells": [
  {
   "cell_type": "markdown",
   "metadata": {},
   "source": [
    "# python元编程\n",
    "所谓元编程就是编写直接生成或操纵程序的程序，例如C++模板给C++语言提供了元编程的能力，模板使C++ 编程变得异常灵活，能实现很多高级动态语言才有的特性。在python中，元编程体现在以下几个方面：\n",
    "    \n",
    "1、一种以修饰（或修改）已有代码为主 - 装饰器（函数装饰器，类装饰器），见[python装饰器](python装饰器.ipynb)\n",
    " \n",
    "2、一种以创建（或限制）新代码为主 - 元类"
   ]
  }
 ],
 "metadata": {
  "kernelspec": {
   "display_name": "Python 2",
   "language": "python",
   "name": "python2"
  },
  "language_info": {
   "codemirror_mode": {
    "name": "ipython",
    "version": 2
   },
   "file_extension": ".py",
   "mimetype": "text/x-python",
   "name": "python",
   "nbconvert_exporter": "python",
   "pygments_lexer": "ipython2",
   "version": "2.7.11"
  }
 },
 "nbformat": 4,
 "nbformat_minor": 0
}
