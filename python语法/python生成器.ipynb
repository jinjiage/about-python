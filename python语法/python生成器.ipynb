{
 "cells": [
  {
   "cell_type": "markdown",
   "metadata": {},
   "source": [
    "# python生成器"
   ]
  },
  {
   "cell_type": "markdown",
   "metadata": {},
   "source": [
    "## 生成器(Generators)\n",
    "> 特殊的迭代器, 保存产生迭代元素的动作，而不是所有的迭代元素，更节省内存\n",
    "\n",
    "> 方式一：使用yield关键字的函数\n",
    "\n",
    "> 方式二：生成器表达式"
   ]
  },
  {
   "cell_type": "code",
   "execution_count": 2,
   "metadata": {
    "collapsed": false
   },
   "outputs": [
    {
     "name": "stdout",
     "output_type": "stream",
     "text": [
      "True\n",
      "True\n",
      "True\n",
      "True\n"
     ]
    }
   ],
   "source": [
    "from inspect import isgeneratorfunction, isgenerator\n",
    "from collections import Iterable, Iterator\n",
    "from types import GeneratorType\n",
    "\n",
    "def gen(x):                     #生成器函数\n",
    "    yield x*2\n",
    "print isgeneratorfunction(gen)  #True\n",
    "\n",
    "g2 = (x*2 for x in range(10))   #生成器表达式\n",
    "print isgenerator(g2)           #True\n",
    "print isinstance(g2, Iterator)  #迭代器\n",
    "print isinstance(g2, GeneratorType) #生成器"
   ]
  }
 ],
 "metadata": {
  "kernelspec": {
   "display_name": "Python 2",
   "language": "python",
   "name": "python2"
  },
  "language_info": {
   "codemirror_mode": {
    "name": "ipython",
    "version": 2
   },
   "file_extension": ".py",
   "mimetype": "text/x-python",
   "name": "python",
   "nbconvert_exporter": "python",
   "pygments_lexer": "ipython2",
   "version": "2.7.11"
  }
 },
 "nbformat": 4,
 "nbformat_minor": 0
}
