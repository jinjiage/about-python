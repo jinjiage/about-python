{
 "cells": [
  {
   "cell_type": "markdown",
   "metadata": {},
   "source": [
    "# python命名空间"
   ]
  },
  {
   "cell_type": "markdown",
   "metadata": {},
   "source": [
    "## 先看比较有意思的例子"
   ]
  },
  {
   "cell_type": "code",
   "execution_count": null,
   "metadata": {
    "collapsed": false
   },
   "outputs": [],
   "source": [
    "# %load ..\\data\\demo1\\A.py\n",
    "import main\n",
    "\n",
    "def A_fun1():\n",
    "    print main.main_gx"
   ]
  },
  {
   "cell_type": "code",
   "execution_count": 12,
   "metadata": {
    "collapsed": false
   },
   "outputs": [
    {
     "name": "stdout",
     "output_type": "stream",
     "text": [
      "1\n"
     ]
    }
   ],
   "source": [
    "# %load ..\\data\\demo1\\main.py\n",
    "main_gx = 1\n",
    "\n",
    "def main_fun1():\n",
    "    global main_gx\n",
    "    main_gx = 100\n",
    "    import A\n",
    "    A.A_fun1()\n",
    "\n",
    "if __name__ == '__main__':\n",
    "    main_fun1()"
   ]
  },
  {
   "cell_type": "markdown",
   "metadata": {},
   "source": [
    "demo1模块main.py中函数main_fun1改变了main_gx了值100，但模块中.py函数A_fun1显示main_gx还是1，这是为什么？难道全局变量的范围只限于本模块吗？\n",
    "1. 全局变量可以在其他模块中使用，本例中main.py模块是主入口模块，比较特殊。python解释器启动后，首先加载main.py，其后在运行过程中import A，导入模块A，在A中又再次import main，导致main_gx重新设置为1；\n",
    "2. 模块只能导入一次，python解释器启动的主入口模块不算导入：(，所以其他非入口模块不会有这样的问题；\n",
    "3. 不建议在入口模块中放置全局变量。如果实在要用，放入公共模块中"
   ]
  },
  {
   "cell_type": "markdown",
   "metadata": {},
   "source": [
    "## 命名空间分为三种：内置命名空间、全局命令空间、局部命令空间"
   ]
  }
 ],
 "metadata": {
  "kernelspec": {
   "display_name": "Python 2",
   "language": "python",
   "name": "python2"
  },
  "language_info": {
   "codemirror_mode": {
    "name": "ipython",
    "version": 2
   },
   "file_extension": ".py",
   "mimetype": "text/x-python",
   "name": "python",
   "nbconvert_exporter": "python",
   "pygments_lexer": "ipython2",
   "version": "2.7.11"
  }
 },
 "nbformat": 4,
 "nbformat_minor": 0
}
