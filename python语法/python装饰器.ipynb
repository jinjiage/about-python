{
 "cells": [
  {
   "cell_type": "markdown",
   "metadata": {},
   "source": [
    "# python装饰器\n",
    "\n",
    "   1、装饰器是python语法层面支持的一种[装饰模式](装饰模式.ipynb)，你可以手工打造装饰模式，也可以使用语法糖@；\n",
    "   \n",
    "   2、函数是第一等公民“first class functions”，见[python函数式编程](python函数式编程.ipynb)，这是实现装饰模式的前提；"
   ]
  },
  {
   "cell_type": "markdown",
   "metadata": {},
   "source": [
    "## 手工打造装饰模式 vs 装饰器语法糖@"
   ]
  },
  {
   "cell_type": "code",
   "execution_count": 52,
   "metadata": {
    "collapsed": false
   },
   "outputs": [
    {
     "name": "stdout",
     "output_type": "stream",
     "text": [
      "deco1\n",
      "raw_fun\n",
      "deco1\n",
      "###############\n",
      "deco1\n",
      "raw_fun\n",
      "deco1\n"
     ]
    }
   ],
   "source": [
    "def raw_fun():\n",
    "    print 'raw_fun'\n",
    "    \n",
    "#装饰函数\n",
    "def deco1(f):\n",
    "    def warp():           #函数中嵌套定义函数\n",
    "        print 'deco1'\n",
    "        f()               #闭包，用到了外层函数的数据\n",
    "        print 'deco1'\n",
    "    return warp           #返回函数\n",
    "\n",
    "raw_fun = deco1(raw_fun)  #函数作为参数\n",
    "raw_fun()\n",
    "\n",
    "print '###############'\n",
    "\n",
    "@deco1                     #语法糖@\n",
    "def raw_fun():\n",
    "    print 'raw_fun'\n",
    "\n",
    "raw_fun()"
   ]
  },
  {
   "cell_type": "markdown",
   "metadata": {},
   "source": [
    "## 装饰器带参数"
   ]
  },
  {
   "cell_type": "markdown",
   "metadata": {},
   "source": [
    "## 装饰器组合"
   ]
  },
  {
   "cell_type": "markdown",
   "metadata": {},
   "source": [
    "## 装饰器可以修饰什么？"
   ]
  },
  {
   "cell_type": "markdown",
   "metadata": {},
   "source": [
    "## 内置装饰器"
   ]
  }
 ],
 "metadata": {
  "kernelspec": {
   "display_name": "Python 2",
   "language": "python",
   "name": "python2"
  },
  "language_info": {
   "codemirror_mode": {
    "name": "ipython",
    "version": 2
   },
   "file_extension": ".py",
   "mimetype": "text/x-python",
   "name": "python",
   "nbconvert_exporter": "python",
   "pygments_lexer": "ipython2",
   "version": "2.7.11"
  }
 },
 "nbformat": 4,
 "nbformat_minor": 0
}
