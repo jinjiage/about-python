{
 "cells": [
  {
   "cell_type": "markdown",
   "metadata": {},
   "source": [
    "# pyside界面库 - Qt的python绑定\n",
    "Qt 是一个跨平台的 C++ 图形用户界面库，Qt 具有下列优点:\n",
    "\n",
    "1、优良的跨平台特性:\n",
    "Qt支持下列操作系统: Microsoft Windows 95/98， Microsoft Windows NT， Linux， Solaris， SunOS， HP-UX， Digital UNIX (OSF/1， Tru64)， Irix， FreeBSD， BSD/OS， SCO， AIX， OS390，QNX 等等。\n",
    "\n",
    "2、面向对象\n",
    "Qt 的良好封装机制使得 Qt 的模块化程度非常高，可重用性较好，对于用户开发来说是非常 方便的。 Qt 提供了一种称为 signals/slots 的安全类型来替代 callback，这使得各个元件 之间的协同工作变得十分简单。\n",
    "\n",
    "3、丰富的 API\n",
    "Qt 包括多达 250 个以上的 C++ 类，还替供基于模板的 collections， serialization， file， I/O device， directory management， date/time 类。甚至还包括正则表达式的处理 功能。\n",
    "\n",
    "4、支持 2D/3D 图形渲染，支持 OpenGL\n",
    "\n",
    "5、大量的开发文档\n",
    "\n",
    "6、XML 支持"
   ]
  },
  {
   "cell_type": "code",
   "execution_count": 1,
   "metadata": {
    "collapsed": false
   },
   "outputs": [
    {
     "data": {
      "text/plain": [
       "0"
      ]
     },
     "execution_count": 1,
     "metadata": {},
     "output_type": "execute_result"
    }
   ],
   "source": [
    "# %load ..\\data\\pyside\\demo1\\main.py\n",
    "import sys\n",
    "from PySide import QtGui, QtCore\n",
    "\n",
    "app = QtGui.QApplication(sys.argv)\n",
    "app.aboutToQuit.connect(app.deleteLater)\n",
    "hello = QtGui.QPushButton(\"Hello world!\")\n",
    "hello.show()\n",
    "app.exec_()"
   ]
  }
 ],
 "metadata": {
  "kernelspec": {
   "display_name": "Python 2",
   "language": "python",
   "name": "python2"
  },
  "language_info": {
   "codemirror_mode": {
    "name": "ipython",
    "version": 2
   },
   "file_extension": ".py",
   "mimetype": "text/x-python",
   "name": "python",
   "nbconvert_exporter": "python",
   "pygments_lexer": "ipython2",
   "version": "2.7.11"
  }
 },
 "nbformat": 4,
 "nbformat_minor": 0
}
